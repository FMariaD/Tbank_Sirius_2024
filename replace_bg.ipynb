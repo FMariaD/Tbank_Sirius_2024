{
 "cells": [
  {
   "cell_type": "code",
   "execution_count": null,
   "id": "c598c03c-db8b-48c9-8fea-bc44b328df44",
   "metadata": {},
   "outputs": [],
   "source": [
    "from PIL import Image\n",
    "import requests\n",
    "import numpy as np\n",
    "import os"
   ]
  },
  {
   "cell_type": "code",
   "execution_count": null,
   "id": "d4dfdc50-3d47-444f-b2b5-978ace814534",
   "metadata": {},
   "outputs": [],
   "source": [
    "IMG_DIR = r'C:\\Users\\FMari\\Sirius2024\\images'\n",
    "MASK_DIR = r'C:\\Users\\FMari\\Sirius2024\\images_mask'\n",
    "NEW_IMG_DIR = r'C:\\Users\\FMari\\Sirius2024\\images_made'\n",
    "DIR2SAVE = r'C:\\Users\\FMari\\Sirius2024\\images_final'\n",
    "\n",
    "img_paths = [os.path.join(IMG_DIR, p) for p in os.listdir(IMG_DIR)]"
   ]
  },
  {
   "cell_type": "code",
   "execution_count": null,
   "id": "1fd14bb3-bb5f-4ff1-a3a1-88b84dc4c066",
   "metadata": {},
   "outputs": [],
   "source": [
    "filenames = os.listdir(IMG_DIR)\n",
    "\n",
    "for name in filenames:\n",
    "    \n",
    "    mask_path = os.path.join(MASK_DIR, name)\n",
    "    img_path = os.path.join(IMG_DIR, name)\n",
    "    new_img_path = os.path.join(NEW_IMG_DIR, name)\n",
    "    \n",
    "    mask = np.asarray(Image.open(mask_path))\n",
    "    img_arr = np.asarray(Image.open(img_path))\n",
    "    try:\n",
    "        new_img_arr = np.asarray(Image.open(new_img_path))\n",
    "    \n",
    "        print(img_arr.shape)\n",
    "        mask = np.where(mask > 170, 255, 0)\n",
    "        mask = mask / 255\n",
    "        new_img = Image.fromarray(np.uint8(np.multiply(img_arr, mask)))\n",
    "    \n",
    "        tmp_arr = np.uint8(np.multiply(img_arr, mask))\n",
    "        final_arr = np.where(tmp_arr != 0, \n",
    "                             tmp_arr,\n",
    "                             new_img_arr)\n",
    "    \n",
    "        final_img = Image.fromarray(final_arr)\n",
    "        display(final_img)\n",
    "    except:\n",
    "        pass\n",
    "\n",
    "    final_img.save(os.path.join(DIR2SAVE, name+'.jpg'))\n"
   ]
  },
  {
   "cell_type": "code",
   "execution_count": null,
   "id": "460686ab-e27c-412d-8d17-4f884ea5e6d9",
   "metadata": {},
   "outputs": [],
   "source": []
  }
 ],
 "metadata": {
  "kernelspec": {
   "display_name": "Python 3 (ipykernel)",
   "language": "python",
   "name": "python3"
  },
  "language_info": {
   "codemirror_mode": {
    "name": "ipython",
    "version": 3
   },
   "file_extension": ".py",
   "mimetype": "text/x-python",
   "name": "python",
   "nbconvert_exporter": "python",
   "pygments_lexer": "ipython3",
   "version": "3.10.13"
  }
 },
 "nbformat": 4,
 "nbformat_minor": 5
}
